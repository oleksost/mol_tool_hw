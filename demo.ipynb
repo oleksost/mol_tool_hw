{
 "cells": [
  {
   "cell_type": "code",
   "execution_count": 1,
   "metadata": {},
   "outputs": [],
   "source": [
    "import numpy as np\n",
    "from langchain_community.document_loaders import WebBaseLoader\n",
    "from langchain_community.document_loaders import PyPDFLoader\n",
    "from langchain_openai import OpenAIEmbeddings\n",
    "from mol_tools.tools import QaAgent, SmilesFilter, SMILESEnergyPredictionTool, RetriverTool\n",
    "from langchain_openai import ChatOpenAI\n",
    "from dotenv import find_dotenv, load_dotenv\n",
    "import logging"
   ]
  },
  {
   "cell_type": "code",
   "execution_count": 2,
   "metadata": {},
   "outputs": [],
   "source": [
    "# set up\n",
    "logging.basicConfig(level=logging.INFO)\n",
    "dotenv_path = find_dotenv()\n",
    "load_dotenv(dotenv_path)\n",
    "llm = ChatOpenAI(model_name=\"gpt-3.5-turbo\") \n",
    "embeddings_provider = OpenAIEmbeddings(model=\"text-embedding-3-small\")\n",
    "# loader = WebBaseLoader(\"https://www.ncbi.nlm.nih.gov/pmc/articles/PMC8264982/\")\n",
    "loader = PyPDFLoader(\"storage/13045_2021_Article_1121.pdf\")\n",
    "docs = loader.load() \n",
    "text = \" \".join([page.page_content for page in docs])"
   ]
  },
  {
   "cell_type": "markdown",
   "metadata": {},
   "source": [
    "# Part 1: Custom Retriever Tool Development"
   ]
  },
  {
   "cell_type": "markdown",
   "metadata": {},
   "source": [
    "#### Ask questions about the paper"
   ]
  },
  {
   "cell_type": "code",
   "execution_count": 3,
   "metadata": {},
   "outputs": [],
   "source": [
    "questions = [\n",
    "    \"What disease are they discussing in the paper?\",\n",
    "    \"Summarize the main takeaways from the paper.\",\n",
    "    \"Can you list the protein targets they highlight in the paper?\",\n",
    "    \"Can you list the small molecule drugs they highlight in the paper?\",\n",
    "]"
   ]
  },
  {
   "cell_type": "code",
   "execution_count": 5,
   "metadata": {},
   "outputs": [
    {
     "name": "stderr",
     "output_type": "stream",
     "text": [
      "INFO:httpx:HTTP Request: POST https://api.openai.com/v1/embeddings \"HTTP/1.1 200 OK\"\n",
      "INFO:httpx:HTTP Request: POST https://api.openai.com/v1/chat/completions \"HTTP/1.1 200 OK\"\n",
      "INFO:httpx:HTTP Request: POST https://api.openai.com/v1/embeddings \"HTTP/1.1 200 OK\"\n"
     ]
    },
    {
     "name": "stdout",
     "output_type": "stream",
     "text": [
      "Question: What disease are they discussing in the paper? \n",
      " Answer: The paper is discussing advanced non-small cell lung cancer (NSCLC).\n"
     ]
    },
    {
     "name": "stderr",
     "output_type": "stream",
     "text": [
      "INFO:httpx:HTTP Request: POST https://api.openai.com/v1/chat/completions \"HTTP/1.1 200 OK\"\n",
      "INFO:httpx:HTTP Request: POST https://api.openai.com/v1/embeddings \"HTTP/1.1 200 OK\"\n"
     ]
    },
    {
     "name": "stdout",
     "output_type": "stream",
     "text": [
      "Question: Summarize the main takeaways from the paper. \n",
      " Answer: The paper discusses the importance of predictive biomarkers in advanced non-small cell lung cancer (NSCLC), focusing on actionable mutations such as ALK, ROS1, EGFR, MET, BRAF, RET, and NTRK. It provides an overview of FDA-approved targeted therapies for these mutations, highlighting the efficacy and common adverse effects associated with each treatment. The paper also discusses the resistance mechanisms that can develop with EGFR inhibitors and the ongoing clinical trials exploring optimal treatment options for patients who have progressed after osimertinib therapy. Overall, the paper emphasizes the importance of personalized medicine in treating advanced NSCLC and the need for further research in this area.\n"
     ]
    },
    {
     "name": "stderr",
     "output_type": "stream",
     "text": [
      "INFO:httpx:HTTP Request: POST https://api.openai.com/v1/chat/completions \"HTTP/1.1 200 OK\"\n",
      "INFO:httpx:HTTP Request: POST https://api.openai.com/v1/embeddings \"HTTP/1.1 200 OK\"\n"
     ]
    },
    {
     "name": "stdout",
     "output_type": "stream",
     "text": [
      "Question: Can you list the protein targets they highlight in the paper? \n",
      " Answer: The protein targets highlighted in the paper include NFE2L2, KEAP1, PI3K, MTORC1, HER2, SHP2, B7-H3, PTK7, EGFR, PTK7, CEACAM5, TROP2, IDO1, BCL2, RXRs, S15, MET/HGFR, PDGFR, FGFR, VEGFR, c-kit, IDO1, p53, Exportin 1, CD27, WEE1, PARP7, and RXRs.\n"
     ]
    },
    {
     "name": "stderr",
     "output_type": "stream",
     "text": [
      "INFO:httpx:HTTP Request: POST https://api.openai.com/v1/chat/completions \"HTTP/1.1 200 OK\"\n"
     ]
    },
    {
     "name": "stdout",
     "output_type": "stream",
     "text": [
      "Question: Can you list the small molecule drugs they highlight in the paper? \n",
      " Answer: Based on the provided context, the small molecule drugs highlighted in the paper are:\n",
      "1. TAK228\n",
      "2. Nazartinib (EGF816)\n",
      "3. Alflutinib (AST2818)\n",
      "4. BLU-945\n",
      "5. BDTX-189\n",
      "6. CLN-081 (TAS6417)\n",
      "7. DZD9008\n",
      "8. Tarloxotinib\n",
      "9. Poziotinib\n",
      "10. Mobocertinib (TAK-788)\n"
     ]
    }
   ],
   "source": [
    "retriever_tool = RetriverTool(\n",
    "    docs, embeddings_provider, vector_path=\"storage/PMC8264982.faiss\"\n",
    ")\n",
    "qa = QaAgent(retriever_tool, llm)\n",
    "# disable logging\n",
    "logging.disable(logging.CRITICAL)\n",
    "for q in questions:\n",
    "    print(\"Question:\", q, \"\\n Answer:\", qa.answer(q))\n",
    "#enable logging\n",
    "logging.disable(logging.NOTSET)"
   ]
  },
  {
   "cell_type": "markdown",
   "metadata": {},
   "source": [
    "#### Search for SMILES strings"
   ]
  },
  {
   "cell_type": "code",
   "execution_count": 6,
   "metadata": {},
   "outputs": [
    {
     "name": "stderr",
     "output_type": "stream",
     "text": [
      "INFO:root:Processing 13598 tokens\n"
     ]
    }
   ],
   "source": [
    "%%capture\n",
    "smiles_filter = SmilesFilter()\n",
    "text = \" \".join([page.page_content for page in docs])\n",
    "smiles_tokens = smiles_filter.filter(text)"
   ]
  },
  {
   "cell_type": "code",
   "execution_count": 7,
   "metadata": {},
   "outputs": [
    {
     "name": "stdout",
     "output_type": "stream",
     "text": [
      "SMILES tokens: ['I/II', 'I/II', 'I/II', 'II', 'III', 'III', 'I/II', 'II', 'II', 'IIB', 'CI', 'II', 'I/II', 'I/II', 'CNS', 'II', 'PPP', 'CI', 'CI', 'CI', 'CI', 'I/II', '\\nCNS', 'I/II', 'CNS', 'I/II', '\\nI', 'I/II', 'III', 'I/II', '\\nOS', 'I/II', 'II', 'CI', 'I/II', 'I/II', 'II', 'II', 'CI', 'I/II', '\\nI/II', 'III', 'I/II', 'I/II', 'II', 'IB', 'I/II', 'I/II', '\\nI/II', 'CI', 'CI', 'I-II', 'CI', 'II', 'I/II', 'II', 'CI', 'I/II', 'CNS', 'II', 'I/II', 'OS', 'III', 'II', 'I/II', 'III', 'I/II', 'I/II', 'I/II', 'I/II', 'I/II', 'II', 'I/II', 'I/II', 'I/II', 'I/II', 'I/II', '\\nI/II', '\\nNCCN', '\\nII', 'CI', 'CI', 'CI', 'II', 'I/II', 'I/II', 'I/II', 'I/II', 'II', 'CNS', 'II', 'II', 'III', 'I/II', 'III', '\\nI/II', 'I/II', 'II', 'I/II', 'II', 'II']\n"
     ]
    }
   ],
   "source": [
    "print(\"SMILES tokens:\", smiles_tokens)"
   ]
  },
  {
   "cell_type": "markdown",
   "metadata": {},
   "source": [
    "# Part 2: Predictive Machine Learning Model Tooling Implementation"
   ]
  },
  {
   "cell_type": "markdown",
   "metadata": {},
   "source": [
    "#### Trian a model (Regression)"
   ]
  },
  {
   "cell_type": "code",
   "execution_count": 9,
   "metadata": {},
   "outputs": [
    {
     "name": "stderr",
     "output_type": "stream",
     "text": [
      "INFO:root:Data loaded with 481 samples\n",
      "INFO:root:Training <class 'mol_tools.models.SkLearnMLPRegression'> model\n"
     ]
    },
    {
     "name": "stderr",
     "output_type": "stream",
     "text": [
      "/home/v-oostapenko/miniconda3/envs/vllns/lib/python3.9/site-packages/sklearn/neural_network/_multilayer_perceptron.py:500: ConvergenceWarning: lbfgs failed to converge (status=1):\n",
      "STOP: TOTAL NO. of ITERATIONS REACHED LIMIT.\n",
      "\n",
      "Increase the number of iterations (max_iter) or scale the data as shown in:\n",
      "    https://scikit-learn.org/stable/modules/preprocessing.html\n",
      "  self.n_iter_ = _check_optimize_result(\"lbfgs\", opt_res, self.max_iter)\n",
      "INFO:root:Model saved at storage/_mlp_regression.pkl\n",
      "INFO:root:Data loaded with 481 samples\n",
      "INFO:root:Training <class 'mol_tools.models.SkLearnTreeRegression'> model\n",
      "INFO:root:Model saved at storage/_tree_regression.pkl\n",
      "INFO:root:Data loaded with 481 samples\n",
      "INFO:root:Training <class 'mol_tools.models.AutoSklearnRegressorModel'> model\n"
     ]
    }
   ],
   "source": [
    "from mol_tools.trainer import train\n",
    "from sklearn.metrics import mean_absolute_error\n",
    "from mol_tools.data_utils import get_freesolv_data\n",
    "X_train, X_test, y_train, y_test = get_freesolv_data()\n",
    "mlp_model = train(X_train, y_train, model= \"mlp_regression\")\n",
    "tree_regressor = train(X_train, y_train, model=\"tree_regression\")\n",
    "ensamble_regressor = train(X_train, y_train, model=\"AutoSklearnRegressor\")\n",
    "models = {\"mlp\": mlp_model, \"tree\": tree_regressor, \"ensamble\": ensamble_regressor}"
   ]
  },
  {
   "cell_type": "code",
   "execution_count": 6,
   "metadata": {},
   "outputs": [
    {
     "ename": "NameError",
     "evalue": "name 'models' is not defined",
     "output_type": "error",
     "traceback": [
      "\u001b[0;31m---------------------------------------------------------------------------\u001b[0m",
      "\u001b[0;31mNameError\u001b[0m                                 Traceback (most recent call last)",
      "Cell \u001b[0;32mIn[6], line 4\u001b[0m\n\u001b[1;32m      2\u001b[0m \u001b[38;5;28;01mimport\u001b[39;00m \u001b[38;5;21;01mmatplotlib\u001b[39;00m\u001b[38;5;21;01m.\u001b[39;00m\u001b[38;5;21;01mpyplot\u001b[39;00m \u001b[38;5;28;01mas\u001b[39;00m \u001b[38;5;21;01mplt\u001b[39;00m\n\u001b[1;32m      3\u001b[0m results \u001b[38;5;241m=\u001b[39m {}\n\u001b[0;32m----> 4\u001b[0m \u001b[38;5;28;01mfor\u001b[39;00m model \u001b[38;5;129;01min\u001b[39;00m \u001b[43mmodels\u001b[49m:\n\u001b[1;32m      5\u001b[0m     y_hat \u001b[38;5;241m=\u001b[39m models[model]\u001b[38;5;241m.\u001b[39mpredict(X_test)\n\u001b[1;32m      6\u001b[0m     mae \u001b[38;5;241m=\u001b[39m mean_absolute_error(y_test, y_hat)\n",
      "\u001b[0;31mNameError\u001b[0m: name 'models' is not defined"
     ]
    }
   ],
   "source": [
    "import seaborn as sns\n",
    "import matplotlib.pyplot as plt\n",
    "results = {}\n",
    "for model in models:\n",
    "    y_hat = models[model].predict(X_test)\n",
    "    mae = mean_absolute_error(y_test, y_hat)\n",
    "    results[model] = mae\n",
    "# barplot\n",
    "# small size \n",
    "plt.figure(figsize=(2, 2))\n",
    "sns.barplot(x=list(results.keys()), y=list(results.values()))\n",
    "plt.ylabel(\"MAE\")\n",
    "    "
   ]
  },
  {
   "cell_type": "markdown",
   "metadata": {},
   "source": [
    "Here, MLP seems like the best model, lets stick to it."
   ]
  },
  {
   "cell_type": "markdown",
   "metadata": {},
   "source": [
    "### Use the model to make poreditions for SMILEs tokens discovered above"
   ]
  },
  {
   "cell_type": "code",
   "execution_count": 7,
   "metadata": {},
   "outputs": [],
   "source": [
    "\n",
    "from mol_tools.data_utils import get_freesolv_data\n",
    "X_train, X_test, y_train, y_test = get_freesolv_data()"
   ]
  },
  {
   "cell_type": "code",
   "execution_count": 8,
   "metadata": {},
   "outputs": [],
   "source": [
    "smiles_tokens = ['I/II', 'I/II', 'I/II', 'II', 'III', 'III', 'I/II', 'II', 'II', 'IIB', 'CI', 'II', 'I/II', 'I/II', 'CNS', 'II', 'PPP', 'CI', 'CI', 'CI', 'CI', 'I/II', '\\nCNS', 'I/II', 'CNS', 'I/II', '\\nI', 'I/II', 'III', 'I/II', '\\nOS', 'I/II', 'II', 'CI', 'I/II', 'I/II', 'II', 'II', 'CI', 'I/II', '\\nI/II', 'III', 'I/II', 'I/II', 'II', 'IB', 'I/II', 'I/II', '\\nI/II', 'CI', 'CI', 'I-II', 'CI', 'II', 'I/II', 'II', 'CI', 'I/II', 'CNS', 'II', 'I/II', 'OS', 'III', 'II', 'I/II', 'III', 'I/II', 'I/II', 'I/II', 'I/II', 'I/II', 'II', 'I/II', 'I/II', 'I/II', 'I/II', 'I/II', '\\nI/II', '\\nNCCN', '\\nII', 'CI', 'CI', 'CI', 'II', 'I/II', 'I/II', 'I/II', 'I/II', 'II', 'CNS', 'II', 'II', 'III', 'I/II', 'III', '\\nI/II', 'I/II', 'II', 'I/II', 'II', 'II']\n",
    "smiles_tokens = np.unique(smiles_tokens)"
   ]
  },
  {
   "cell_type": "code",
   "execution_count": 9,
   "metadata": {},
   "outputs": [
    {
     "name": "stdout",
     "output_type": "stream",
     "text": [
      "SMILES: \n",
      "CNS \n",
      " Energy: -6.472814943457294\n",
      "SMILES: \n",
      "I \n",
      " Energy: -0.9677948146753201\n",
      "SMILES: \n",
      "I/II \n",
      " Energy: -1.0995580127160332\n",
      "SMILES: \n",
      "II \n",
      " Energy: -2.0305915914540313\n",
      "SMILES: \n",
      "NCCN \n",
      " Energy: -6.971683576325196\n",
      "SMILES: \n",
      "OS \n",
      " Energy: -2.8051132488132233\n",
      "SMILES: CI \n",
      " Energy: -2.056325737667905\n",
      "SMILES: CNS \n",
      " Energy: -6.472814943457294\n",
      "SMILES: I-II \n",
      " Energy: -1.0995580127160332\n",
      "SMILES: I/II \n",
      " Energy: -1.0995580127160332\n",
      "SMILES: IB \n",
      " Energy: -1.9819246736701257\n",
      "SMILES: II \n",
      " Energy: -2.0305915914540313\n",
      "SMILES: IIB \n",
      " Energy: -1.7200701126943927\n",
      "SMILES: III \n",
      " Energy: -1.0995580127160332\n",
      "SMILES: OS \n",
      " Energy: -2.8051132488132233\n",
      "SMILES: PPP \n",
      " Energy: -1.3624383257479176\n"
     ]
    }
   ],
   "source": [
    "smiles_temp_predictor = SMILESEnergyPredictionTool(\n",
    "    model_path=\"storage/_mlp_regression.pkl\"\n",
    ")\n",
    "   \n",
    "for smiles in smiles_tokens:\n",
    "    print(\"SMILES:\", smiles, \"\\n Energy:\", smiles_temp_predictor.run(smiles))"
   ]
  }
 ],
 "metadata": {
  "kernelspec": {
   "display_name": "vllns",
   "language": "python",
   "name": "python3"
  },
  "language_info": {
   "codemirror_mode": {
    "name": "ipython",
    "version": 3
   },
   "file_extension": ".py",
   "mimetype": "text/x-python",
   "name": "python",
   "nbconvert_exporter": "python",
   "pygments_lexer": "ipython3",
   "version": "3.9.19"
  }
 },
 "nbformat": 4,
 "nbformat_minor": 2
}
