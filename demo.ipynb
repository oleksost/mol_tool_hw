{
 "cells": [
  {
   "cell_type": "code",
   "execution_count": 8,
   "metadata": {},
   "outputs": [],
   "source": [
    "import numpy as np\n",
    "from langchain_community.document_loaders import WebBaseLoader\n",
    "from langchain_community.document_loaders import PyPDFLoader\n",
    "from langchain_openai import OpenAIEmbeddings\n",
    "from mol_tools.tools import QaAgent, SmilesFilter, SMILESEnergyPredictionTool\n",
    "from langchain_openai import ChatOpenAI\n",
    "from dotenv import find_dotenv, load_dotenv\n",
    "import logging"
   ]
  },
  {
   "cell_type": "code",
   "execution_count": 2,
   "metadata": {},
   "outputs": [],
   "source": [
    "# set up\n",
    "logging.basicConfig(level=logging.INFO)\n",
    "dotenv_path = find_dotenv()\n",
    "load_dotenv(dotenv_path)\n",
    "llm = ChatOpenAI(model_name=\"gpt-3.5-turbo\") \n",
    "embeddings_provider = OpenAIEmbeddings(model=\"text-embedding-3-small\")\n",
    "# loader = WebBaseLoader(\"https://www.ncbi.nlm.nih.gov/pmc/articles/PMC8264982/\")\n",
    "loader = PyPDFLoader(\"storage/13045_2021_Article_1121.pdf\")\n",
    "docs = loader.load() \n",
    "text = \" \".join([page.page_content for page in docs])"
   ]
  },
  {
   "cell_type": "markdown",
   "metadata": {},
   "source": [
    "# Part 1: Custom Retriever Tool Development"
   ]
  },
  {
   "cell_type": "markdown",
   "metadata": {},
   "source": [
    "#### Ask questions about the paper"
   ]
  },
  {
   "cell_type": "code",
   "execution_count": 8,
   "metadata": {},
   "outputs": [],
   "source": [
    "questions = [\n",
    "    \"What disease are they discussing in the paper?\",\n",
    "    \"Summarize the main takeaways from the paper.\",\n",
    "    \"Can you list the protein targets they highlight in the paper?\",\n",
    "    \"Can you list the small molecule drugs they highlight in the paper?\",\n",
    "]"
   ]
  },
  {
   "cell_type": "code",
   "execution_count": 10,
   "metadata": {},
   "outputs": [
    {
     "name": "stdout",
     "output_type": "stream",
     "text": [
      "Question: What disease are they discussing in the paper? \n",
      " Answer: The paper discusses advanced non-small cell lung cancer (NSCLC).\n",
      "Question: Summarize the main takeaways from the paper. \n",
      " Answer: The paper discusses the importance of predictive biomarkers in advanced non-small cell lung cancer (NSCLC), focusing on EGFR mutations as oncogenic drivers in a subset of patients. The use of EGFR inhibitors, such as osimertinib, is highlighted as standard of care in the first-line metastatic setting for untreated EGFR mutant NSCLC. Resistance mechanisms to EGFR TKIs, including acquired resistance and treatment options after progression on osimertinib, are also discussed. Ongoing clinical trials, such as ORCHARD, Checkmate 722, and KEYNOTE-789, are exploring optimal treatment strategies for patients with EGFR-mutant NSCLC based on their underlying resistance mechanisms. The distribution of actionable mutations in advanced lung adenocarcinoma, along with available targeted therapies and their frequencies in different populations, is summarized in tables within the paper.\n",
      "Question: Can you list the protein targets they highlight in the paper? \n",
      " Answer: - ERBB2 (HER2)\n",
      "- SHP2\n",
      "- BCL2\n",
      "- IDO1\n",
      "- WEE1\n",
      "- RXRs\n",
      "- PI3K\n",
      "- mTOR\n",
      "- CDK4/6\n",
      "- Aurora A kinase\n",
      "- VEGFR\n",
      "- FGFR\n",
      "- PDGFR\n",
      "- c-kit\n",
      "- MET/HGFR\n",
      "- Exportin 1\n",
      "- Liver X receptor\n",
      "- PARP7\n",
      "- MAPK\n",
      "- Glutaminase\n",
      "- CD27\n",
      "- WEE1\n",
      "- B7-H3\n",
      "- RXR\n",
      "Question: Can you list the small molecule drugs they highlight in the paper? \n",
      " Answer: Based on the context provided, the small molecule drugs highlighted in the paper include:\n",
      "1. APG-1252\n",
      "2. BMS-986205\n",
      "3. HBI-8000\n",
      "4. Idelalisib\n",
      "5. IRX4204\n",
      "6. NC318\n",
      "7. Ningetinib (CT053PTSA)\n",
      "8. Nintedanib\n",
      "9. RGX-104\n",
      "10. Rucaparib\n",
      "11. Selinexor\n",
      "12. Telaglenastat HCL\n",
      "13. Vorolanib\n",
      "14. ZN-c3\n",
      "15. RBN-2397\n"
     ]
    }
   ],
   "source": [
    "qa = QaAgent(\n",
    "        docs, llm, embeddings_provider, vector_path=\"storage/PMC8264982.faiss\"\n",
    "    )\n",
    "for q in questions:\n",
    "    print(\"Question:\", q, \"\\n Answer:\", qa.answer(q))"
   ]
  },
  {
   "cell_type": "markdown",
   "metadata": {},
   "source": [
    "#### Search for SMILES strings"
   ]
  },
  {
   "cell_type": "code",
   "execution_count": 3,
   "metadata": {},
   "outputs": [
    {
     "name": "stderr",
     "output_type": "stream",
     "text": [
      "INFO:root:Processing 13598 tokens\n"
     ]
    }
   ],
   "source": [
    "%%capture\n",
    "smiles_filter = SmilesFilter()\n",
    "text = \" \".join([page.page_content for page in docs])\n",
    "smiles_tokens = smiles_filter.filter(text)"
   ]
  },
  {
   "cell_type": "code",
   "execution_count": 5,
   "metadata": {},
   "outputs": [
    {
     "name": "stdout",
     "output_type": "stream",
     "text": [
      "SMILES tokens: ['I/II', 'I/II', 'I/II', 'II', 'III', 'III', 'I/II', 'II', 'II', 'IIB', 'CI', 'II', 'I/II', 'I/II', 'CNS', 'II', 'PPP', 'CI', 'CI', 'CI', 'CI', 'I/II', '\\nCNS', 'I/II', 'CNS', 'I/II', '\\nI', 'I/II', 'III', 'I/II', '\\nOS', 'I/II', 'II', 'CI', 'I/II', 'I/II', 'II', 'II', 'CI', 'I/II', '\\nI/II', 'III', 'I/II', 'I/II', 'II', 'IB', 'I/II', 'I/II', '\\nI/II', 'CI', 'CI', 'I-II', 'CI', 'II', 'I/II', 'II', 'CI', 'I/II', 'CNS', 'II', 'I/II', 'OS', 'III', 'II', 'I/II', 'III', 'I/II', 'I/II', 'I/II', 'I/II', 'I/II', 'II', 'I/II', 'I/II', 'I/II', 'I/II', 'I/II', '\\nI/II', '\\nNCCN', '\\nII', 'CI', 'CI', 'CI', 'II', 'I/II', 'I/II', 'I/II', 'I/II', 'II', 'CNS', 'II', 'II', 'III', 'I/II', 'III', '\\nI/II', 'I/II', 'II', 'I/II', 'II', 'II']\n"
     ]
    }
   ],
   "source": [
    "print(\"SMILES tokens:\", smiles_tokens)"
   ]
  },
  {
   "cell_type": "markdown",
   "metadata": {},
   "source": [
    "# Part 2: Predictive Machine Learning Model Tooling Implementation"
   ]
  },
  {
   "cell_type": "markdown",
   "metadata": {},
   "source": [
    "#### Trian a model (Regression)"
   ]
  },
  {
   "cell_type": "code",
   "execution_count": 6,
   "metadata": {},
   "outputs": [],
   "source": [
    "from mol_tools.trainer import train\n",
    "train()"
   ]
  },
  {
   "cell_type": "code",
   "execution_count": 8,
   "metadata": {},
   "outputs": [],
   "source": [
    "#eval model on test data\n",
    "import pickle\n",
    "from mol_tools.models import MODELS, Model\n",
    "from sklearn.metrics import mean_absolute_error\n",
    "from mol_tools.data_utils import get_freesolv_data\n",
    "X_train, X_test, y_train, y_test = get_freesolv_data()\n",
    "\n",
    "with open(\"storage/_AutoSklearnRegressor.pkl\", \"rb\") as f:\n",
    "    model:Model = pickle.load(f)\n",
    "\n",
    "y_hat = model.predict(X_test)\n",
    "mae = mean_absolute_error(y_test, y_hat)"
   ]
  },
  {
   "cell_type": "code",
   "execution_count": 9,
   "metadata": {},
   "outputs": [
    {
     "data": {
      "text/plain": [
       "1.373892990216831"
      ]
     },
     "execution_count": 9,
     "metadata": {},
     "output_type": "execute_result"
    }
   ],
   "source": [
    "mae # mean absolute value"
   ]
  },
  {
   "cell_type": "markdown",
   "metadata": {},
   "source": [
    "### Use the model to make poreditions for SMILEs tokens discovered above"
   ]
  },
  {
   "cell_type": "code",
   "execution_count": 9,
   "metadata": {},
   "outputs": [],
   "source": [
    "smiles_tokens = ['I/II', 'I/II', 'I/II', 'II', 'III', 'III', 'I/II', 'II', 'II', 'IIB', 'CI', 'II', 'I/II', 'I/II', 'CNS', 'II', 'PPP', 'CI', 'CI', 'CI', 'CI', 'I/II', '\\nCNS', 'I/II', 'CNS', 'I/II', '\\nI', 'I/II', 'III', 'I/II', '\\nOS', 'I/II', 'II', 'CI', 'I/II', 'I/II', 'II', 'II', 'CI', 'I/II', '\\nI/II', 'III', 'I/II', 'I/II', 'II', 'IB', 'I/II', 'I/II', '\\nI/II', 'CI', 'CI', 'I-II', 'CI', 'II', 'I/II', 'II', 'CI', 'I/II', 'CNS', 'II', 'I/II', 'OS', 'III', 'II', 'I/II', 'III', 'I/II', 'I/II', 'I/II', 'I/II', 'I/II', 'II', 'I/II', 'I/II', 'I/II', 'I/II', 'I/II', '\\nI/II', '\\nNCCN', '\\nII', 'CI', 'CI', 'CI', 'II', 'I/II', 'I/II', 'I/II', 'I/II', 'II', 'CNS', 'II', 'II', 'III', 'I/II', 'III', '\\nI/II', 'I/II', 'II', 'I/II', 'II', 'II']\n",
    "smiles_tokens = np.unique(smiles_tokens)"
   ]
  },
  {
   "cell_type": "code",
   "execution_count": 10,
   "metadata": {},
   "outputs": [
    {
     "name": "stdout",
     "output_type": "stream",
     "text": [
      "SMILES: \n",
      "CNS \n",
      " Energy: -4.174153208732605\n",
      "SMILES: \n",
      "I \n",
      " Energy: -2.567687451839447\n",
      "SMILES: \n",
      "I/II \n",
      " Energy: -2.3948360681533813\n",
      "SMILES: \n",
      "II \n",
      " Energy: -2.4692990481853485\n",
      "SMILES: \n",
      "NCCN \n",
      " Energy: -5.0190078020095825\n",
      "SMILES: \n",
      "OS \n",
      " Energy: -3.0381375551223755\n",
      "SMILES: CI \n",
      " Energy: -2.6678661108016968\n",
      "SMILES: CNS \n",
      " Energy: -4.174153208732605\n",
      "SMILES: I-II \n",
      " Energy: -2.3948360681533813\n",
      "SMILES: I/II \n",
      " Energy: -2.3948360681533813\n",
      "SMILES: IB \n",
      " Energy: -2.4980756044387817\n",
      "SMILES: II \n",
      " Energy: -2.4692990481853485\n",
      "SMILES: IIB \n",
      " Energy: -2.4729931950569153\n",
      "SMILES: III \n",
      " Energy: -2.3948360681533813\n",
      "SMILES: OS \n",
      " Energy: -3.0381375551223755\n",
      "SMILES: PPP \n",
      " Energy: -2.5146504342556\n"
     ]
    }
   ],
   "source": [
    "smiles_temp_predictor = SMILESEnergyPredictionTool(\n",
    "    model_path=\"storage/_AutoSklearnRegressor.pkl\"\n",
    ")\n",
    "   \n",
    "for smiles in smiles_tokens:\n",
    "    print(\"SMILES:\", smiles, \"\\n Energy:\", smiles_temp_predictor.run(smiles))"
   ]
  }
 ],
 "metadata": {
  "kernelspec": {
   "display_name": "vllns",
   "language": "python",
   "name": "python3"
  },
  "language_info": {
   "codemirror_mode": {
    "name": "ipython",
    "version": 3
   },
   "file_extension": ".py",
   "mimetype": "text/x-python",
   "name": "python",
   "nbconvert_exporter": "python",
   "pygments_lexer": "ipython3",
   "version": "3.9.19"
  }
 },
 "nbformat": 4,
 "nbformat_minor": 2
}
